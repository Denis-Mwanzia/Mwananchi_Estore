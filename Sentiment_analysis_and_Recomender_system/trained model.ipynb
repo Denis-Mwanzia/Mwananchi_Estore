{
 "cells": [
  {
   "cell_type": "code",
   "execution_count": 14,
   "id": "79133551",
   "metadata": {},
   "outputs": [],
   "source": [
    "import joblib\n",
    "import random\n",
    "\n",
    "# Load the SVM model\n",
    "svm_model = joblib.load('sentiment_model.joblib')\n",
    "\n",
    "# Load the TF-IDF vectorizer\n",
    "tfidf_vectorizer = joblib.load('tfidf_vectorizer.joblib')\n",
    "\n",
    "# Function to predict sentiment based on user input\n",
    "def predict_sentiment(user_review):\n",
    "    # Preprocess the input review\n",
    "    user_review = preprocess(user_review)\n",
    "    # Vectorize the user review using the TF-IDF vectorizer\n",
    "    user_review_tfidf = tfidf_vectorizer.transform([user_review])\n",
    "    # Predict using the trained model (SVM in this case)\n",
    "    prediction = svm_model.predict(user_review_tfidf)\n",
    "    # Map predicted sentiment to labels\n",
    "    sentiment_labels = {0: 'Negative', 1: 'Neutral', 2: 'Positive'}\n",
    "    predicted_sentiment_label = sentiment_labels[prediction[0]]\n",
    "    return predicted_sentiment_label\n",
    "\n",
    "# Function to predict rating based on sentiment\n",
    "def map_sentiment_to_rating(sentiment):\n",
    "    if sentiment == 'Negative':\n",
    "        # Assign a random rating between 1 and 2 for negative sentiment\n",
    "        return random.uniform(1, 2)\n",
    "    elif sentiment == 'Neutral':\n",
    "        return 3  # Assign a fixed rating of 3 for neutral sentiment\n",
    "    elif sentiment == 'Positive':\n",
    "        # Assign a random rating between 4 and 5 for positive sentiment\n",
    "        return random.uniform(4, 5)\n",
    "    else:\n",
    "        return None\n"
   ]
  },
  {
   "cell_type": "code",
   "execution_count": 15,
   "id": "a9eb7037",
   "metadata": {},
   "outputs": [
    {
     "name": "stdout",
     "output_type": "stream",
     "text": [
      "Enter your review: at first i liked the product from ecommerce but on delivery i di not like the product any more\n",
      "Predicted sentiment: Negative\n",
      "Predicted rating: 1.8989694598552322\n"
     ]
    }
   ],
   "source": [
    "# Use the functions to predict sentiment and rating\n",
    "user_review = input(\"Enter your review: \")\n",
    "predicted_sentiment = predict_sentiment(user_review)\n",
    "predicted_rating = map_sentiment_to_rating(predicted_sentiment)\n",
    "\n",
    "# Display the predicted sentiment and rating\n",
    "print(f'Predicted sentiment: {predicted_sentiment}')\n",
    "print(f'Predicted rating: {predicted_rating}')"
   ]
  },
  {
   "cell_type": "code",
   "execution_count": null,
   "id": "47f2a791",
   "metadata": {},
   "outputs": [],
   "source": []
  }
 ],
 "metadata": {
  "kernelspec": {
   "display_name": "Python 3 (ipykernel)",
   "language": "python",
   "name": "python3"
  },
  "language_info": {
   "codemirror_mode": {
    "name": "ipython",
    "version": 3
   },
   "file_extension": ".py",
   "mimetype": "text/x-python",
   "name": "python",
   "nbconvert_exporter": "python",
   "pygments_lexer": "ipython3",
   "version": "3.10.9"
  }
 },
 "nbformat": 4,
 "nbformat_minor": 5
}
